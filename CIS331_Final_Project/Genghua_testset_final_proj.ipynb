{
  "nbformat": 4,
  "nbformat_minor": 0,
  "metadata": {
    "colab": {
      "name": "Genghua_testset_final_proj.ipynb",
      "provenance": []
    },
    "kernelspec": {
      "name": "python3",
      "display_name": "Python 3"
    },
    "language_info": {
      "name": "python"
    }
  },
  "cells": [
    {
      "cell_type": "code",
      "execution_count": 19,
      "metadata": {
        "id": "7EuhfBQJbkGS"
      },
      "outputs": [],
      "source": [
        "import pandas as pd\n",
        "import os\n",
        "import fnmatch\n",
        "import numpy as np\n",
        "import shutil\n",
        "import torch\n",
        "import torchvision\n",
        "import torchvision.transforms as transforms\n",
        "from torchvision import datasets, models, transforms\n",
        "import random\n",
        "import matplotlib.pyplot as plt\n",
        "import torch.nn as nn\n",
        "import torch.nn.functional as F\n",
        "import seaborn as sns\n",
        "from sklearn.metrics import confusion_matrix\n",
        "from google.colab import files"
      ]
    },
    {
      "cell_type": "code",
      "source": [
        "!gdown --id  1raUNfghYhlfAgQHPQs7Jm1BO5WIf01t3  --output \"cnn.pth\" "
      ],
      "metadata": {
        "colab": {
          "base_uri": "https://localhost:8080/",
          "height": 0
        },
        "id": "OH2rZYfSbwv_",
        "outputId": "a53ff991-3f49-47d1-a52b-952706ed44f2"
      },
      "execution_count": 2,
      "outputs": [
        {
          "output_type": "stream",
          "name": "stdout",
          "text": [
            "Downloading...\n",
            "From: https://drive.google.com/uc?id=1raUNfghYhlfAgQHPQs7Jm1BO5WIf01t3\n",
            "To: /content/cnn.pth\n",
            "100% 16.7M/16.7M [00:00<00:00, 45.8MB/s]\n"
          ]
        }
      ]
    },
    {
      "cell_type": "code",
      "source": [
        "!gdown --id  1WHJvZs1X1rudeHQANKsy3sQK1WMaZG2i  --output \"T.zip\" \n"
      ],
      "metadata": {
        "id": "pIy71OrhbwyL",
        "colab": {
          "base_uri": "https://localhost:8080/",
          "height": 0
        },
        "outputId": "cebb9ce1-f8b2-400b-eb6d-4dbfc8f94dfd"
      },
      "execution_count": 3,
      "outputs": [
        {
          "output_type": "stream",
          "name": "stdout",
          "text": [
            "Downloading...\n",
            "From: https://drive.google.com/uc?id=1WHJvZs1X1rudeHQANKsy3sQK1WMaZG2i\n",
            "To: /content/T.zip\n",
            "\r  0% 0.00/459k [00:00<?, ?B/s]\r100% 459k/459k [00:00<00:00, 3.52MB/s]\n"
          ]
        }
      ]
    },
    {
      "cell_type": "code",
      "source": [
        "!unzip T.zip"
      ],
      "metadata": {
        "colab": {
          "base_uri": "https://localhost:8080/",
          "height": 0
        },
        "id": "HkvOKq4tP-zN",
        "outputId": "e971ba3e-3ad1-4619-8a54-a90fbc4900df"
      },
      "execution_count": 4,
      "outputs": [
        {
          "output_type": "stream",
          "name": "stdout",
          "text": [
            "Archive:  T.zip\n",
            "   creating: T/\n",
            "  inflating: __MACOSX/._T            \n",
            "  inflating: T/A1.jpg                \n",
            "  inflating: __MACOSX/T/._A1.jpg     \n",
            "  inflating: T/.DS_Store             \n",
            "  inflating: __MACOSX/T/._.DS_Store  \n",
            "  inflating: T/E1.jpg                \n",
            "  inflating: __MACOSX/T/._E1.jpg     \n",
            "  inflating: T/D1.jpg                \n",
            "  inflating: __MACOSX/T/._D1.jpg     \n",
            "  inflating: T/C1.jpg                \n",
            "  inflating: __MACOSX/T/._C1.jpg     \n",
            "  inflating: T/G.C.C.jpg             \n",
            "  inflating: __MACOSX/T/._G.C.C.jpg  \n",
            "  inflating: T/G.C.B.jpg             \n",
            "  inflating: __MACOSX/T/._G.C.B.jpg  \n",
            "  inflating: T/G.C.A.jpg             \n",
            "  inflating: __MACOSX/T/._G.C.A.jpg  \n",
            "  inflating: T/G.C.E.jpg             \n",
            "  inflating: __MACOSX/T/._G.C.E.jpg  \n",
            "  inflating: T/G.C.D.jpg             \n",
            "  inflating: __MACOSX/T/._G.C.D.jpg  \n",
            "  inflating: T/B1.jpg                \n",
            "  inflating: __MACOSX/T/._B1.jpg     \n"
          ]
        }
      ]
    },
    {
      "cell_type": "code",
      "source": [
        "parent_dir = '/content'\n",
        "path = os.path.join(parent_dir, 'test')\n",
        "os.mkdir(path) \n"
      ],
      "metadata": {
        "id": "IYtwGZDPfRqq"
      },
      "execution_count": 5,
      "outputs": []
    },
    {
      "cell_type": "code",
      "source": [
        "shutil.move('/content/T', '/content/test')\n"
      ],
      "metadata": {
        "id": "GJR3PCloe2DI",
        "colab": {
          "base_uri": "https://localhost:8080/",
          "height": 35
        },
        "outputId": "d19494d2-cb4b-4249-cfc7-23b101458e6f"
      },
      "execution_count": 6,
      "outputs": [
        {
          "output_type": "execute_result",
          "data": {
            "application/vnd.google.colaboratory.intrinsic+json": {
              "type": "string"
            },
            "text/plain": [
              "'/content/test/T'"
            ]
          },
          "metadata": {},
          "execution_count": 6
        }
      ]
    },
    {
      "cell_type": "code",
      "source": [
        "data_dir = '/content/test'\n",
        "classes = ('A', 'B', 'C', 'D', 'E')\n",
        "val_transforms = transforms.Compose([\n",
        "    # transforms.RandomHorizontalFlip(),\n",
        "    transforms.RandomResizedCrop((40, 40), scale=(0.8, 1.0), \n",
        "            ratio=(0.9, 1.1)),\n",
        "    transforms.ToTensor(),\n",
        "    # transforms.Normalize()\n",
        "])\n",
        "val_ds = datasets.ImageFolder(data_dir, val_transforms)"
      ],
      "metadata": {
        "id": "snoDp1AMdrhI"
      },
      "execution_count": 7,
      "outputs": []
    },
    {
      "cell_type": "code",
      "source": [
        "val_loader = torch.utils.data.DataLoader(val_ds, batch_size=10, \n",
        "        shuffle=False, drop_last=False, num_workers=2)"
      ],
      "metadata": {
        "id": "Ju2ed78XgeRB"
      },
      "execution_count": 8,
      "outputs": []
    },
    {
      "cell_type": "code",
      "source": [
        "for images, labels in val_loader:\n",
        "    pass\n",
        "\n",
        "# Get one batch\n",
        "images, labels = next(iter(val_loader))\n",
        "images.shape  # Output: torch.Size([30, 3, 500, 500])    [how many images, kernel(rgb), width, length]"
      ],
      "metadata": {
        "colab": {
          "base_uri": "https://localhost:8080/",
          "height": 0
        },
        "id": "tVZyPvUkgsl4",
        "outputId": "728aefb0-c8bf-4f36-a557-9bb4dc590ec0"
      },
      "execution_count": 9,
      "outputs": [
        {
          "output_type": "execute_result",
          "data": {
            "text/plain": [
              "torch.Size([10, 3, 40, 40])"
            ]
          },
          "metadata": {},
          "execution_count": 9
        }
      ]
    },
    {
      "cell_type": "code",
      "source": [
        "def validation(testdata_loader, device=torch.device(\"cpu\")):\n",
        "\n",
        "  net.eval()\n",
        "\n",
        "\n",
        "  with torch.no_grad():\n",
        "    for data in testdata_loader:\n",
        "      images, labels = data\n",
        "\n",
        "      outputs = net(images.to(device))\n",
        "      _, predicted = torch.max(outputs.data.detach().cpu(), 1)\n",
        "      return predicted\n"
      ],
      "metadata": {
        "id": "18lM07Xdbw0A"
      },
      "execution_count": 10,
      "outputs": []
    },
    {
      "cell_type": "code",
      "source": [
        "class CNN(nn.Module):\n",
        "    def __init__(self, num_classes: int = 5, \n",
        "                 dropout: float = 0.5) -> None:\n",
        "        super().__init__()\n",
        "        \n",
        "        self.features = nn.Sequential(\n",
        "            # Conv1\n",
        "            nn.Conv2d(3, 64, kernel_size=5, stride=1, padding=2),\n",
        "            nn.BatchNorm2d(64),\n",
        "            nn.ReLU(inplace=True),\n",
        "\n",
        "            # Conv2\n",
        "            nn.Conv2d(64, 192, kernel_size=5, padding=2),\n",
        "            nn.BatchNorm2d(192),\n",
        "            nn.ReLU(inplace=True),\n",
        "            nn.MaxPool2d(kernel_size=3, stride=2),\n",
        "\n",
        "            # Conv3\n",
        "            nn.Conv2d(192, 256, kernel_size=3, padding=1),\n",
        "            nn.BatchNorm2d(256),\n",
        "            nn.ReLU(inplace=True),\n",
        "            nn.MaxPool2d(kernel_size=3, stride=2),\n",
        "\n",
        "        )\n",
        "        self.avgpool = nn.AdaptiveAvgPool2d((3, 3)) \n",
        "        # average pooling, just specify output size\n",
        "        # https://pytorch.org/docs/stable/generated/torch.nn.AdaptiveAvgPool2d.html\n",
        "\n",
        "\n",
        "        self.classifier = nn.Sequential(\n",
        "            # nn.Dropout(p=dropout), # p = dropout probability\n",
        "            nn.Linear(256 * 3 * 3, 1024),\n",
        "            nn.ReLU(inplace=True),\n",
        "            # nn.Dropout(p=dropout),\n",
        "            nn.Linear(1024, 1024),\n",
        "            nn.ReLU(inplace=True),\n",
        "            nn.Linear(1024, num_classes), \n",
        "        )\n",
        "\n",
        "        # initialize the weights\n",
        "        self._initialize_weights()\n",
        "\n",
        "    def forward(self, x: torch.Tensor) -> torch.Tensor:\n",
        "        x = self.features(x)\n",
        "        x = self.avgpool(x)\n",
        "        x = torch.flatten(x, 1)\n",
        "        x = self.classifier(x)\n",
        "        return x\n",
        "\n",
        "\n",
        "\n",
        "    def _initialize_weights(self) -> None:\n",
        "        for m in self.modules():\n",
        "            if isinstance(m, nn.Conv2d):\n",
        "                # Based on our previous discussion, we should initialize the convolutions according to the activation function\n",
        "                # Fan-out focuses on the gradient distribution, \n",
        "                # and is commonly used\n",
        "                nn.init.kaiming_normal_(m.weight, mode=\"fan_out\", nonlinearity=\"relu\")\n",
        "                if m.bias is not None:\n",
        "                    nn.init.constant_(m.bias, 0)\n",
        "            elif isinstance(m, nn.BatchNorm2d):\n",
        "                nn.init.constant_(m.weight, 1)\n",
        "                nn.init.constant_(m.bias, 0)\n",
        "            elif isinstance(m, nn.Linear):\n",
        "                nn.init.normal_(m.weight, 0, 0.01)\n",
        "                nn.init.constant_(m.bias, 0)\n",
        "\n"
      ],
      "metadata": {
        "id": "62BGgL6Xbw2A"
      },
      "execution_count": 11,
      "outputs": []
    },
    {
      "cell_type": "code",
      "source": [
        "def imshow(img):\n",
        "\n",
        "  # img = img / 2 + 0.5\n",
        "  npimg = img.numpy()\n",
        "  plt.figure(figsize=(20,20))\n",
        "  plt.imshow(np.transpose(npimg, (1, 2, 0)))\n",
        "  plt.show()\n",
        "imshow(torchvision.utils.make_grid(images))"
      ],
      "metadata": {
        "colab": {
          "base_uri": "https://localhost:8080/",
          "height": 334
        },
        "id": "HoiX6vONmwA9",
        "outputId": "8fccdd84-e588-43a6-ad43-d43ddfeb660b"
      },
      "execution_count": 12,
      "outputs": [
        {
          "output_type": "display_data",
          "data": {
            "image/png": "[encoded data removed]",
            "text/plain": [
              "<Figure size 1440x1440 with 1 Axes>"
            ]
          },
          "metadata": {
            "needs_background": "light"
          }
        }
      ]
    },
    {
      "cell_type": "code",
      "source": [
        "# device = torch.device(\"cuda:0\" if torch.cuda.is_available() else \"cpu\")\n",
        "\n",
        "net = CNN(num_classes=5, dropout=0.5) \n",
        "PATH = './cnn.pth'\n",
        "net.load_state_dict(torch.load(PATH, map_location=torch.device('cpu')))\n",
        "a = validation(val_loader)"
      ],
      "metadata": {
        "id": "arLcrqVSbw4E"
      },
      "execution_count": 13,
      "outputs": []
    },
    {
      "cell_type": "code",
      "source": [
        "ls = []\n",
        "result = []\n",
        "for i in list(a):\n",
        "  b = i.item()\n",
        "  if i == 0:\n",
        "    result.append('A')\n",
        "  elif i == 1:\n",
        "    result.append('B')\n",
        "  elif i == 2:\n",
        "    result.append('C')\n",
        "  elif i == 3:\n",
        "    result.append('D')\n",
        "  elif i == 4:\n",
        "    result.append('E')\n",
        "  ls.append(b)"
      ],
      "metadata": {
        "id": "cnrDqGbcnVkL"
      },
      "execution_count": 14,
      "outputs": []
    },
    {
      "cell_type": "code",
      "source": [
        "result"
      ],
      "metadata": {
        "colab": {
          "base_uri": "https://localhost:8080/",
          "height": 0
        },
        "id": "x2goOSQgUMWF",
        "outputId": "0e8bbd7a-d025-4777-9a96-8e04c78d5ccd"
      },
      "execution_count": 15,
      "outputs": [
        {
          "output_type": "execute_result",
          "data": {
            "text/plain": [
              "['A', 'B', 'C', 'D', 'E', 'A', 'B', 'C', 'D', 'E']"
            ]
          },
          "metadata": {},
          "execution_count": 15
        }
      ]
    },
    {
      "cell_type": "code",
      "source": [
        "result_pd = pd.DataFrame(sorted(os.listdir('/content/test/T'))[1:], columns = ['Filename'])\n",
        "result_pd['Predicted_Label'] = result\n",
        "result_pd"
      ],
      "metadata": {
        "id": "9XGI12h1VW1H",
        "colab": {
          "base_uri": "https://localhost:8080/",
          "height": 363
        },
        "outputId": "060ff1ee-f75d-4dbb-a2fe-8b151df14b2f"
      },
      "execution_count": 16,
      "outputs": [
        {
          "output_type": "execute_result",
          "data": {
            "text/html": [
              "\n",
              "  <div id=\"df-6d04b933-64d0-4371-aa4d-6681ae5c9c5c\">\n",
              "    <div class=\"colab-df-container\">\n",
              "      <div>\n",
              "<style scoped>\n",
              "    .dataframe tbody tr th:only-of-type {\n",
              "        vertical-align: middle;\n",
              "    }\n",
              "\n",
              "    .dataframe tbody tr th {\n",
              "        vertical-align: top;\n",
              "    }\n",
              "\n",
              "    .dataframe thead th {\n",
              "        text-align: right;\n",
              "    }\n",
              "</style>\n",
              "<table border=\"1\" class=\"dataframe\">\n",
              "  <thead>\n",
              "    <tr style=\"text-align: right;\">\n",
              "      <th></th>\n",
              "      <th>Filename</th>\n",
              "      <th>Predicted_Label</th>\n",
              "    </tr>\n",
              "  </thead>\n",
              "  <tbody>\n",
              "    <tr>\n",
              "      <th>0</th>\n",
              "      <td>A1.jpg</td>\n",
              "      <td>A</td>\n",
              "    </tr>\n",
              "    <tr>\n",
              "      <th>1</th>\n",
              "      <td>B1.jpg</td>\n",
              "      <td>B</td>\n",
              "    </tr>\n",
              "    <tr>\n",
              "      <th>2</th>\n",
              "      <td>C1.jpg</td>\n",
              "      <td>C</td>\n",
              "    </tr>\n",
              "    <tr>\n",
              "      <th>3</th>\n",
              "      <td>D1.jpg</td>\n",
              "      <td>D</td>\n",
              "    </tr>\n",
              "    <tr>\n",
              "      <th>4</th>\n",
              "      <td>E1.jpg</td>\n",
              "      <td>E</td>\n",
              "    </tr>\n",
              "    <tr>\n",
              "      <th>5</th>\n",
              "      <td>G.C.A.jpg</td>\n",
              "      <td>A</td>\n",
              "    </tr>\n",
              "    <tr>\n",
              "      <th>6</th>\n",
              "      <td>G.C.B.jpg</td>\n",
              "      <td>B</td>\n",
              "    </tr>\n",
              "    <tr>\n",
              "      <th>7</th>\n",
              "      <td>G.C.C.jpg</td>\n",
              "      <td>C</td>\n",
              "    </tr>\n",
              "    <tr>\n",
              "      <th>8</th>\n",
              "      <td>G.C.D.jpg</td>\n",
              "      <td>D</td>\n",
              "    </tr>\n",
              "    <tr>\n",
              "      <th>9</th>\n",
              "      <td>G.C.E.jpg</td>\n",
              "      <td>E</td>\n",
              "    </tr>\n",
              "  </tbody>\n",
              "</table>\n",
              "</div>\n",
              "      <button class=\"colab-df-convert\" onclick=\"convertToInteractive('df-6d04b933-64d0-4371-aa4d-6681ae5c9c5c')\"\n",
              "              title=\"Convert this dataframe to an interactive table.\"\n",
              "              style=\"display:none;\">\n",
              "        \n",
              "  <svg xmlns=\"http://www.w3.org/2000/svg\" height=\"24px\"viewBox=\"0 0 24 24\"\n",
              "       width=\"24px\">\n",
              "    <path d=\"M0 0h24v24H0V0z\" fill=\"none\"/>\n",
              "    <path d=\"M18.56 5.44l.94 2.06.94-2.06 2.06-.94-2.06-.94-.94-2.06-.94 2.06-2.06.94zm-11 1L8.5 8.5l.94-2.06 2.06-.94-2.06-.94L8.5 2.5l-.94 2.06-2.06.94zm10 10l.94 2.06.94-2.06 2.06-.94-2.06-.94-.94-2.06-.94 2.06-2.06.94z\"/><path d=\"M17.41 7.96l-1.37-1.37c-.4-.4-.92-.59-1.43-.59-.52 0-1.04.2-1.43.59L10.3 9.45l-7.72 7.72c-.78.78-.78 2.05 0 2.83L4 21.41c.39.39.9.59 1.41.59.51 0 1.02-.2 1.41-.59l7.78-7.78 2.81-2.81c.8-.78.8-2.07 0-2.86zM5.41 20L4 18.59l7.72-7.72 1.47 1.35L5.41 20z\"/>\n",
              "  </svg>\n",
              "      </button>\n",
              "      \n",
              "  <style>\n",
              "    .colab-df-container {\n",
              "      display:flex;\n",
              "      flex-wrap:wrap;\n",
              "      gap: 12px;\n",
              "    }\n",
              "\n",
              "    .colab-df-convert {\n",
              "      background-color: #E8F0FE;\n",
              "      border: none;\n",
              "      border-radius: 50%;\n",
              "      cursor: pointer;\n",
              "      display: none;\n",
              "      fill: #1967D2;\n",
              "      height: 32px;\n",
              "      padding: 0 0 0 0;\n",
              "      width: 32px;\n",
              "    }\n",
              "\n",
              "    .colab-df-convert:hover {\n",
              "      background-color: #E2EBFA;\n",
              "      box-shadow: 0px 1px 2px rgba(60, 64, 67, 0.3), 0px 1px 3px 1px rgba(60, 64, 67, 0.15);\n",
              "      fill: #174EA6;\n",
              "    }\n",
              "\n",
              "    [theme=dark] .colab-df-convert {\n",
              "      background-color: #3B4455;\n",
              "      fill: #D2E3FC;\n",
              "    }\n",
              "\n",
              "    [theme=dark] .colab-df-convert:hover {\n",
              "      background-color: #434B5C;\n",
              "      box-shadow: 0px 1px 3px 1px rgba(0, 0, 0, 0.15);\n",
              "      filter: drop-shadow(0px 1px 2px rgba(0, 0, 0, 0.3));\n",
              "      fill: #FFFFFF;\n",
              "    }\n",
              "  </style>\n",
              "\n",
              "      <script>\n",
              "        const buttonEl =\n",
              "          document.querySelector('#df-6d04b933-64d0-4371-aa4d-6681ae5c9c5c button.colab-df-convert');\n",
              "        buttonEl.style.display =\n",
              "          google.colab.kernel.accessAllowed ? 'block' : 'none';\n",
              "\n",
              "        async function convertToInteractive(key) {\n",
              "          const element = document.querySelector('#df-6d04b933-64d0-4371-aa4d-6681ae5c9c5c');\n",
              "          const dataTable =\n",
              "            await google.colab.kernel.invokeFunction('convertToInteractive',\n",
              "                                                     [key], {});\n",
              "          if (!dataTable) return;\n",
              "\n",
              "          const docLinkHtml = 'Like what you see? Visit the ' +\n",
              "            '<a target=\"_blank\" href=https://colab.research.google.com/notebooks/data_table.ipynb>data table notebook</a>'\n",
              "            + ' to learn more about interactive tables.';\n",
              "          element.innerHTML = '';\n",
              "          dataTable['output_type'] = 'display_data';\n",
              "          await google.colab.output.renderOutput(dataTable, element);\n",
              "          const docLink = document.createElement('div');\n",
              "          docLink.innerHTML = docLinkHtml;\n",
              "          element.appendChild(docLink);\n",
              "        }\n",
              "      </script>\n",
              "    </div>\n",
              "  </div>\n",
              "  "
            ],
            "text/plain": [
              "    Filename Predicted_Label\n",
              "0     A1.jpg               A\n",
              "1     B1.jpg               B\n",
              "2     C1.jpg               C\n",
              "3     D1.jpg               D\n",
              "4     E1.jpg               E\n",
              "5  G.C.A.jpg               A\n",
              "6  G.C.B.jpg               B\n",
              "7  G.C.C.jpg               C\n",
              "8  G.C.D.jpg               D\n",
              "9  G.C.E.jpg               E"
            ]
          },
          "metadata": {},
          "execution_count": 16
        }
      ]
    },
    {
      "cell_type": "code",
      "source": [
        "result_pd.to_csv('result.csv' ,index=False)"
      ],
      "metadata": {
        "id": "bzcMN-wGsJB6"
      },
      "execution_count": 21,
      "outputs": []
    }
  ]
}